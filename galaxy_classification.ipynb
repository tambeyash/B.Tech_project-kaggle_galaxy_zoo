{
  "nbformat": 4,
  "nbformat_minor": 0,
  "metadata": {
    "colab": {
      "name": "galaxy classification.ipynb",
      "version": "0.3.2",
      "provenance": [],
      "collapsed_sections": [],
      "include_colab_link": true
    },
    "language_info": {
      "codemirror_mode": {
        "name": "ipython",
        "version": 3
      },
      "file_extension": ".py",
      "mimetype": "text/x-python",
      "name": "python",
      "nbconvert_exporter": "python",
      "pygments_lexer": "ipython3",
      "version": "3.5.4"
    },
    "kernelspec": {
      "display_name": "Python 3",
      "language": "python",
      "name": "python3"
    }
  },
  "cells": [
    {
      "cell_type": "markdown",
      "metadata": {
        "id": "view-in-github",
        "colab_type": "text"
      },
      "source": [
        "<a href=\"https://colab.research.google.com/github/tambeyash/kaggle_galaxy_zoo/blob/master/galaxy_classification.ipynb\" target=\"_parent\"><img src=\"https://colab.research.google.com/assets/colab-badge.svg\" alt=\"Open In Colab\"/></a>"
      ]
    },
    {
      "metadata": {
        "id": "8-KDrM3h_3E5",
        "colab_type": "code",
        "colab": {}
      },
      "cell_type": "code",
      "source": [
        "import pandas as pd\n",
        "import numpy as np \n",
        "import itertools\n",
        "import keras\n",
        "from sklearn import metrics\n",
        "from sklearn.metrics import confusion_matrix\n",
        "from keras.preprocessing.image import ImageDataGenerator, img_to_array, load_img \n",
        "from keras.models import Sequential \n",
        "from keras import optimizers\n",
        "from keras.preprocessing import image\n",
        "from keras.layers import Dropout, Flatten, Dense \n",
        "from keras import applications \n",
        "from keras.utils.np_utils import to_categorical \n",
        "import matplotlib.pyplot as plt \n",
        "import matplotlib.image as mpimg\n",
        "%matplotlib inline\n",
        "import math \n",
        "import datetime\n",
        "import time"
      ],
      "execution_count": 0,
      "outputs": []
    },
    {
      "metadata": {
        "id": "0fvmRsNN_3E9",
        "colab_type": "code",
        "colab": {}
      },
      "cell_type": "code",
      "source": [
        "#importing the classes\n",
        "classes = pd.read_csv('training_solutions_rev1.csv')"
      ],
      "execution_count": 0,
      "outputs": []
    },
    {
      "metadata": {
        "id": "2Bdg6SpV_3FA",
        "colab_type": "code",
        "outputId": "705f4c5c-b9b7-49b9-d5d5-57f855839635",
        "colab": {
          "base_uri": "https://localhost:8080/",
          "height": 253
        }
      },
      "cell_type": "code",
      "source": [
        "classes.head()"
      ],
      "execution_count": 20,
      "outputs": [
        {
          "output_type": "execute_result",
          "data": {
            "text/html": [
              "<div>\n",
              "<style scoped>\n",
              "    .dataframe tbody tr th:only-of-type {\n",
              "        vertical-align: middle;\n",
              "    }\n",
              "\n",
              "    .dataframe tbody tr th {\n",
              "        vertical-align: top;\n",
              "    }\n",
              "\n",
              "    .dataframe thead th {\n",
              "        text-align: right;\n",
              "    }\n",
              "</style>\n",
              "<table border=\"1\" class=\"dataframe\">\n",
              "  <thead>\n",
              "    <tr style=\"text-align: right;\">\n",
              "      <th></th>\n",
              "      <th>GalaxyID</th>\n",
              "      <th>Class1.1</th>\n",
              "      <th>Class1.2</th>\n",
              "      <th>Class1.3</th>\n",
              "      <th>Class2.1</th>\n",
              "      <th>Class2.2</th>\n",
              "      <th>Class3.1</th>\n",
              "      <th>Class3.2</th>\n",
              "      <th>Class4.1</th>\n",
              "      <th>Class4.2</th>\n",
              "      <th>...</th>\n",
              "      <th>Class9.3</th>\n",
              "      <th>Class10.1</th>\n",
              "      <th>Class10.2</th>\n",
              "      <th>Class10.3</th>\n",
              "      <th>Class11.1</th>\n",
              "      <th>Class11.2</th>\n",
              "      <th>Class11.3</th>\n",
              "      <th>Class11.4</th>\n",
              "      <th>Class11.5</th>\n",
              "      <th>Class11.6</th>\n",
              "    </tr>\n",
              "  </thead>\n",
              "  <tbody>\n",
              "    <tr>\n",
              "      <th>0</th>\n",
              "      <td>100008</td>\n",
              "      <td>0.383147</td>\n",
              "      <td>0.616853</td>\n",
              "      <td>0.000000</td>\n",
              "      <td>0.000000</td>\n",
              "      <td>0.616853</td>\n",
              "      <td>0.038452</td>\n",
              "      <td>0.578401</td>\n",
              "      <td>0.418398</td>\n",
              "      <td>0.198455</td>\n",
              "      <td>...</td>\n",
              "      <td>0.000000</td>\n",
              "      <td>0.279952</td>\n",
              "      <td>0.138445</td>\n",
              "      <td>0.000000</td>\n",
              "      <td>0.000000</td>\n",
              "      <td>0.092886</td>\n",
              "      <td>0.0</td>\n",
              "      <td>0.0</td>\n",
              "      <td>0.0</td>\n",
              "      <td>0.325512</td>\n",
              "    </tr>\n",
              "    <tr>\n",
              "      <th>1</th>\n",
              "      <td>100023</td>\n",
              "      <td>0.327001</td>\n",
              "      <td>0.663777</td>\n",
              "      <td>0.009222</td>\n",
              "      <td>0.031178</td>\n",
              "      <td>0.632599</td>\n",
              "      <td>0.467370</td>\n",
              "      <td>0.165229</td>\n",
              "      <td>0.591328</td>\n",
              "      <td>0.041271</td>\n",
              "      <td>...</td>\n",
              "      <td>0.018764</td>\n",
              "      <td>0.000000</td>\n",
              "      <td>0.131378</td>\n",
              "      <td>0.459950</td>\n",
              "      <td>0.000000</td>\n",
              "      <td>0.591328</td>\n",
              "      <td>0.0</td>\n",
              "      <td>0.0</td>\n",
              "      <td>0.0</td>\n",
              "      <td>0.000000</td>\n",
              "    </tr>\n",
              "    <tr>\n",
              "      <th>2</th>\n",
              "      <td>100053</td>\n",
              "      <td>0.765717</td>\n",
              "      <td>0.177352</td>\n",
              "      <td>0.056931</td>\n",
              "      <td>0.000000</td>\n",
              "      <td>0.177352</td>\n",
              "      <td>0.000000</td>\n",
              "      <td>0.177352</td>\n",
              "      <td>0.000000</td>\n",
              "      <td>0.177352</td>\n",
              "      <td>...</td>\n",
              "      <td>0.000000</td>\n",
              "      <td>0.000000</td>\n",
              "      <td>0.000000</td>\n",
              "      <td>0.000000</td>\n",
              "      <td>0.000000</td>\n",
              "      <td>0.000000</td>\n",
              "      <td>0.0</td>\n",
              "      <td>0.0</td>\n",
              "      <td>0.0</td>\n",
              "      <td>0.000000</td>\n",
              "    </tr>\n",
              "    <tr>\n",
              "      <th>3</th>\n",
              "      <td>100078</td>\n",
              "      <td>0.693377</td>\n",
              "      <td>0.238564</td>\n",
              "      <td>0.068059</td>\n",
              "      <td>0.000000</td>\n",
              "      <td>0.238564</td>\n",
              "      <td>0.109493</td>\n",
              "      <td>0.129071</td>\n",
              "      <td>0.189098</td>\n",
              "      <td>0.049466</td>\n",
              "      <td>...</td>\n",
              "      <td>0.000000</td>\n",
              "      <td>0.094549</td>\n",
              "      <td>0.000000</td>\n",
              "      <td>0.094549</td>\n",
              "      <td>0.189098</td>\n",
              "      <td>0.000000</td>\n",
              "      <td>0.0</td>\n",
              "      <td>0.0</td>\n",
              "      <td>0.0</td>\n",
              "      <td>0.000000</td>\n",
              "    </tr>\n",
              "    <tr>\n",
              "      <th>4</th>\n",
              "      <td>100090</td>\n",
              "      <td>0.933839</td>\n",
              "      <td>0.000000</td>\n",
              "      <td>0.066161</td>\n",
              "      <td>0.000000</td>\n",
              "      <td>0.000000</td>\n",
              "      <td>0.000000</td>\n",
              "      <td>0.000000</td>\n",
              "      <td>0.000000</td>\n",
              "      <td>0.000000</td>\n",
              "      <td>...</td>\n",
              "      <td>0.000000</td>\n",
              "      <td>0.000000</td>\n",
              "      <td>0.000000</td>\n",
              "      <td>0.000000</td>\n",
              "      <td>0.000000</td>\n",
              "      <td>0.000000</td>\n",
              "      <td>0.0</td>\n",
              "      <td>0.0</td>\n",
              "      <td>0.0</td>\n",
              "      <td>0.000000</td>\n",
              "    </tr>\n",
              "  </tbody>\n",
              "</table>\n",
              "<p>5 rows × 38 columns</p>\n",
              "</div>"
            ],
            "text/plain": [
              "   GalaxyID  Class1.1  Class1.2  Class1.3  Class2.1  Class2.2  Class3.1  \\\n",
              "0    100008  0.383147  0.616853  0.000000  0.000000  0.616853  0.038452   \n",
              "1    100023  0.327001  0.663777  0.009222  0.031178  0.632599  0.467370   \n",
              "2    100053  0.765717  0.177352  0.056931  0.000000  0.177352  0.000000   \n",
              "3    100078  0.693377  0.238564  0.068059  0.000000  0.238564  0.109493   \n",
              "4    100090  0.933839  0.000000  0.066161  0.000000  0.000000  0.000000   \n",
              "\n",
              "   Class3.2  Class4.1  Class4.2  ...  Class9.3  Class10.1  Class10.2  \\\n",
              "0  0.578401  0.418398  0.198455  ...  0.000000   0.279952   0.138445   \n",
              "1  0.165229  0.591328  0.041271  ...  0.018764   0.000000   0.131378   \n",
              "2  0.177352  0.000000  0.177352  ...  0.000000   0.000000   0.000000   \n",
              "3  0.129071  0.189098  0.049466  ...  0.000000   0.094549   0.000000   \n",
              "4  0.000000  0.000000  0.000000  ...  0.000000   0.000000   0.000000   \n",
              "\n",
              "   Class10.3  Class11.1  Class11.2  Class11.3  Class11.4  Class11.5  Class11.6  \n",
              "0   0.000000   0.000000   0.092886        0.0        0.0        0.0   0.325512  \n",
              "1   0.459950   0.000000   0.591328        0.0        0.0        0.0   0.000000  \n",
              "2   0.000000   0.000000   0.000000        0.0        0.0        0.0   0.000000  \n",
              "3   0.094549   0.189098   0.000000        0.0        0.0        0.0   0.000000  \n",
              "4   0.000000   0.000000   0.000000        0.0        0.0        0.0   0.000000  \n",
              "\n",
              "[5 rows x 38 columns]"
            ]
          },
          "metadata": {
            "tags": []
          },
          "execution_count": 20
        }
      ]
    },
    {
      "metadata": {
        "id": "-jFiS_0G_3FF",
        "colab_type": "code",
        "outputId": "74eeb202-2b81-4290-82d4-3f5eb8d02e44",
        "colab": {
          "base_uri": "https://localhost:8080/",
          "height": 34
        }
      },
      "cell_type": "code",
      "source": [
        "classes.shape"
      ],
      "execution_count": 21,
      "outputs": [
        {
          "output_type": "execute_result",
          "data": {
            "text/plain": [
              "(61578, 38)"
            ]
          },
          "metadata": {
            "tags": []
          },
          "execution_count": 21
        }
      ]
    },
    {
      "metadata": {
        "id": "t0IBgQSv_3FI",
        "colab_type": "code",
        "outputId": "c8e300d6-fb29-4b80-9925-25fc3cc19327",
        "colab": {
          "base_uri": "https://localhost:8080/",
          "height": 253
        }
      },
      "cell_type": "code",
      "source": [
        "c1 = classes.T\n",
        "c1.head()"
      ],
      "execution_count": 22,
      "outputs": [
        {
          "output_type": "execute_result",
          "data": {
            "text/html": [
              "<div>\n",
              "<style scoped>\n",
              "    .dataframe tbody tr th:only-of-type {\n",
              "        vertical-align: middle;\n",
              "    }\n",
              "\n",
              "    .dataframe tbody tr th {\n",
              "        vertical-align: top;\n",
              "    }\n",
              "\n",
              "    .dataframe thead th {\n",
              "        text-align: right;\n",
              "    }\n",
              "</style>\n",
              "<table border=\"1\" class=\"dataframe\">\n",
              "  <thead>\n",
              "    <tr style=\"text-align: right;\">\n",
              "      <th></th>\n",
              "      <th>0</th>\n",
              "      <th>1</th>\n",
              "      <th>2</th>\n",
              "      <th>3</th>\n",
              "      <th>4</th>\n",
              "      <th>5</th>\n",
              "      <th>6</th>\n",
              "      <th>7</th>\n",
              "      <th>8</th>\n",
              "      <th>9</th>\n",
              "      <th>...</th>\n",
              "      <th>61568</th>\n",
              "      <th>61569</th>\n",
              "      <th>61570</th>\n",
              "      <th>61571</th>\n",
              "      <th>61572</th>\n",
              "      <th>61573</th>\n",
              "      <th>61574</th>\n",
              "      <th>61575</th>\n",
              "      <th>61576</th>\n",
              "      <th>61577</th>\n",
              "    </tr>\n",
              "  </thead>\n",
              "  <tbody>\n",
              "    <tr>\n",
              "      <th>GalaxyID</th>\n",
              "      <td>100008.000000</td>\n",
              "      <td>100023.000000</td>\n",
              "      <td>100053.000000</td>\n",
              "      <td>100078.000000</td>\n",
              "      <td>100090.000000</td>\n",
              "      <td>100122.000000</td>\n",
              "      <td>100123.000000</td>\n",
              "      <td>100128.000000</td>\n",
              "      <td>100134.000000</td>\n",
              "      <td>100143.000000</td>\n",
              "      <td>...</td>\n",
              "      <td>999875.000000</td>\n",
              "      <td>999890.000000</td>\n",
              "      <td>999893.000000</td>\n",
              "      <td>999900.000000</td>\n",
              "      <td>999936.000000</td>\n",
              "      <td>999948.000000</td>\n",
              "      <td>999950.000000</td>\n",
              "      <td>999958.000000</td>\n",
              "      <td>999964.00000</td>\n",
              "      <td>999967.000</td>\n",
              "    </tr>\n",
              "    <tr>\n",
              "      <th>Class1.1</th>\n",
              "      <td>0.383147</td>\n",
              "      <td>0.327001</td>\n",
              "      <td>0.765717</td>\n",
              "      <td>0.693377</td>\n",
              "      <td>0.933839</td>\n",
              "      <td>0.738832</td>\n",
              "      <td>0.462492</td>\n",
              "      <td>0.687783</td>\n",
              "      <td>0.021834</td>\n",
              "      <td>0.269843</td>\n",
              "      <td>...</td>\n",
              "      <td>0.020285</td>\n",
              "      <td>0.308029</td>\n",
              "      <td>0.410999</td>\n",
              "      <td>0.460239</td>\n",
              "      <td>0.545443</td>\n",
              "      <td>0.510379</td>\n",
              "      <td>0.901216</td>\n",
              "      <td>0.202841</td>\n",
              "      <td>0.09100</td>\n",
              "      <td>0.767</td>\n",
              "    </tr>\n",
              "    <tr>\n",
              "      <th>Class1.2</th>\n",
              "      <td>0.616853</td>\n",
              "      <td>0.663777</td>\n",
              "      <td>0.177352</td>\n",
              "      <td>0.238564</td>\n",
              "      <td>0.000000</td>\n",
              "      <td>0.238159</td>\n",
              "      <td>0.456033</td>\n",
              "      <td>0.288344</td>\n",
              "      <td>0.976952</td>\n",
              "      <td>0.730157</td>\n",
              "      <td>...</td>\n",
              "      <td>0.979715</td>\n",
              "      <td>0.691971</td>\n",
              "      <td>0.519560</td>\n",
              "      <td>0.511396</td>\n",
              "      <td>0.454557</td>\n",
              "      <td>0.489621</td>\n",
              "      <td>0.098784</td>\n",
              "      <td>0.777376</td>\n",
              "      <td>0.90900</td>\n",
              "      <td>0.140</td>\n",
              "    </tr>\n",
              "    <tr>\n",
              "      <th>Class1.3</th>\n",
              "      <td>0.000000</td>\n",
              "      <td>0.009222</td>\n",
              "      <td>0.056931</td>\n",
              "      <td>0.068059</td>\n",
              "      <td>0.066161</td>\n",
              "      <td>0.023009</td>\n",
              "      <td>0.081475</td>\n",
              "      <td>0.023873</td>\n",
              "      <td>0.001214</td>\n",
              "      <td>0.000000</td>\n",
              "      <td>...</td>\n",
              "      <td>0.000000</td>\n",
              "      <td>0.000000</td>\n",
              "      <td>0.069441</td>\n",
              "      <td>0.028365</td>\n",
              "      <td>0.000000</td>\n",
              "      <td>0.000000</td>\n",
              "      <td>0.000000</td>\n",
              "      <td>0.019783</td>\n",
              "      <td>0.00000</td>\n",
              "      <td>0.093</td>\n",
              "    </tr>\n",
              "    <tr>\n",
              "      <th>Class2.1</th>\n",
              "      <td>0.000000</td>\n",
              "      <td>0.031178</td>\n",
              "      <td>0.000000</td>\n",
              "      <td>0.000000</td>\n",
              "      <td>0.000000</td>\n",
              "      <td>0.000000</td>\n",
              "      <td>0.000000</td>\n",
              "      <td>0.000000</td>\n",
              "      <td>0.021751</td>\n",
              "      <td>0.730157</td>\n",
              "      <td>...</td>\n",
              "      <td>0.207551</td>\n",
              "      <td>0.691971</td>\n",
              "      <td>0.051956</td>\n",
              "      <td>0.109439</td>\n",
              "      <td>0.056820</td>\n",
              "      <td>0.059207</td>\n",
              "      <td>0.000000</td>\n",
              "      <td>0.116962</td>\n",
              "      <td>0.04545</td>\n",
              "      <td>0.000</td>\n",
              "    </tr>\n",
              "  </tbody>\n",
              "</table>\n",
              "<p>5 rows × 61578 columns</p>\n",
              "</div>"
            ],
            "text/plain": [
              "                  0              1              2              3      \\\n",
              "GalaxyID  100008.000000  100023.000000  100053.000000  100078.000000   \n",
              "Class1.1       0.383147       0.327001       0.765717       0.693377   \n",
              "Class1.2       0.616853       0.663777       0.177352       0.238564   \n",
              "Class1.3       0.000000       0.009222       0.056931       0.068059   \n",
              "Class2.1       0.000000       0.031178       0.000000       0.000000   \n",
              "\n",
              "                  4              5              6              7      \\\n",
              "GalaxyID  100090.000000  100122.000000  100123.000000  100128.000000   \n",
              "Class1.1       0.933839       0.738832       0.462492       0.687783   \n",
              "Class1.2       0.000000       0.238159       0.456033       0.288344   \n",
              "Class1.3       0.066161       0.023009       0.081475       0.023873   \n",
              "Class2.1       0.000000       0.000000       0.000000       0.000000   \n",
              "\n",
              "                  8              9      ...          61568          61569  \\\n",
              "GalaxyID  100134.000000  100143.000000  ...  999875.000000  999890.000000   \n",
              "Class1.1       0.021834       0.269843  ...       0.020285       0.308029   \n",
              "Class1.2       0.976952       0.730157  ...       0.979715       0.691971   \n",
              "Class1.3       0.001214       0.000000  ...       0.000000       0.000000   \n",
              "Class2.1       0.021751       0.730157  ...       0.207551       0.691971   \n",
              "\n",
              "                  61570          61571          61572          61573  \\\n",
              "GalaxyID  999893.000000  999900.000000  999936.000000  999948.000000   \n",
              "Class1.1       0.410999       0.460239       0.545443       0.510379   \n",
              "Class1.2       0.519560       0.511396       0.454557       0.489621   \n",
              "Class1.3       0.069441       0.028365       0.000000       0.000000   \n",
              "Class2.1       0.051956       0.109439       0.056820       0.059207   \n",
              "\n",
              "                  61574          61575         61576       61577  \n",
              "GalaxyID  999950.000000  999958.000000  999964.00000  999967.000  \n",
              "Class1.1       0.901216       0.202841       0.09100       0.767  \n",
              "Class1.2       0.098784       0.777376       0.90900       0.140  \n",
              "Class1.3       0.000000       0.019783       0.00000       0.093  \n",
              "Class2.1       0.000000       0.116962       0.04545       0.000  \n",
              "\n",
              "[5 rows x 61578 columns]"
            ]
          },
          "metadata": {
            "tags": []
          },
          "execution_count": 22
        }
      ]
    },
    {
      "metadata": {
        "id": "JEtLRxVR_3FL",
        "colab_type": "code",
        "outputId": "f7bcb8f8-c763-4736-b95f-e1b267e4b690",
        "colab": {
          "base_uri": "https://localhost:8080/",
          "height": 253
        }
      },
      "cell_type": "code",
      "source": [
        "c2 = c1.drop('GalaxyID', axis = 0)\n",
        "c2.head()"
      ],
      "execution_count": 23,
      "outputs": [
        {
          "output_type": "execute_result",
          "data": {
            "text/html": [
              "<div>\n",
              "<style scoped>\n",
              "    .dataframe tbody tr th:only-of-type {\n",
              "        vertical-align: middle;\n",
              "    }\n",
              "\n",
              "    .dataframe tbody tr th {\n",
              "        vertical-align: top;\n",
              "    }\n",
              "\n",
              "    .dataframe thead th {\n",
              "        text-align: right;\n",
              "    }\n",
              "</style>\n",
              "<table border=\"1\" class=\"dataframe\">\n",
              "  <thead>\n",
              "    <tr style=\"text-align: right;\">\n",
              "      <th></th>\n",
              "      <th>0</th>\n",
              "      <th>1</th>\n",
              "      <th>2</th>\n",
              "      <th>3</th>\n",
              "      <th>4</th>\n",
              "      <th>5</th>\n",
              "      <th>6</th>\n",
              "      <th>7</th>\n",
              "      <th>8</th>\n",
              "      <th>9</th>\n",
              "      <th>...</th>\n",
              "      <th>61568</th>\n",
              "      <th>61569</th>\n",
              "      <th>61570</th>\n",
              "      <th>61571</th>\n",
              "      <th>61572</th>\n",
              "      <th>61573</th>\n",
              "      <th>61574</th>\n",
              "      <th>61575</th>\n",
              "      <th>61576</th>\n",
              "      <th>61577</th>\n",
              "    </tr>\n",
              "  </thead>\n",
              "  <tbody>\n",
              "    <tr>\n",
              "      <th>Class1.1</th>\n",
              "      <td>0.383147</td>\n",
              "      <td>0.327001</td>\n",
              "      <td>0.765717</td>\n",
              "      <td>0.693377</td>\n",
              "      <td>0.933839</td>\n",
              "      <td>0.738832</td>\n",
              "      <td>0.462492</td>\n",
              "      <td>0.687783</td>\n",
              "      <td>0.021834</td>\n",
              "      <td>0.269843</td>\n",
              "      <td>...</td>\n",
              "      <td>0.020285</td>\n",
              "      <td>0.308029</td>\n",
              "      <td>0.410999</td>\n",
              "      <td>0.460239</td>\n",
              "      <td>0.545443</td>\n",
              "      <td>0.510379</td>\n",
              "      <td>0.901216</td>\n",
              "      <td>0.202841</td>\n",
              "      <td>0.09100</td>\n",
              "      <td>0.767</td>\n",
              "    </tr>\n",
              "    <tr>\n",
              "      <th>Class1.2</th>\n",
              "      <td>0.616853</td>\n",
              "      <td>0.663777</td>\n",
              "      <td>0.177352</td>\n",
              "      <td>0.238564</td>\n",
              "      <td>0.000000</td>\n",
              "      <td>0.238159</td>\n",
              "      <td>0.456033</td>\n",
              "      <td>0.288344</td>\n",
              "      <td>0.976952</td>\n",
              "      <td>0.730157</td>\n",
              "      <td>...</td>\n",
              "      <td>0.979715</td>\n",
              "      <td>0.691971</td>\n",
              "      <td>0.519560</td>\n",
              "      <td>0.511396</td>\n",
              "      <td>0.454557</td>\n",
              "      <td>0.489621</td>\n",
              "      <td>0.098784</td>\n",
              "      <td>0.777376</td>\n",
              "      <td>0.90900</td>\n",
              "      <td>0.140</td>\n",
              "    </tr>\n",
              "    <tr>\n",
              "      <th>Class1.3</th>\n",
              "      <td>0.000000</td>\n",
              "      <td>0.009222</td>\n",
              "      <td>0.056931</td>\n",
              "      <td>0.068059</td>\n",
              "      <td>0.066161</td>\n",
              "      <td>0.023009</td>\n",
              "      <td>0.081475</td>\n",
              "      <td>0.023873</td>\n",
              "      <td>0.001214</td>\n",
              "      <td>0.000000</td>\n",
              "      <td>...</td>\n",
              "      <td>0.000000</td>\n",
              "      <td>0.000000</td>\n",
              "      <td>0.069441</td>\n",
              "      <td>0.028365</td>\n",
              "      <td>0.000000</td>\n",
              "      <td>0.000000</td>\n",
              "      <td>0.000000</td>\n",
              "      <td>0.019783</td>\n",
              "      <td>0.00000</td>\n",
              "      <td>0.093</td>\n",
              "    </tr>\n",
              "    <tr>\n",
              "      <th>Class2.1</th>\n",
              "      <td>0.000000</td>\n",
              "      <td>0.031178</td>\n",
              "      <td>0.000000</td>\n",
              "      <td>0.000000</td>\n",
              "      <td>0.000000</td>\n",
              "      <td>0.000000</td>\n",
              "      <td>0.000000</td>\n",
              "      <td>0.000000</td>\n",
              "      <td>0.021751</td>\n",
              "      <td>0.730157</td>\n",
              "      <td>...</td>\n",
              "      <td>0.207551</td>\n",
              "      <td>0.691971</td>\n",
              "      <td>0.051956</td>\n",
              "      <td>0.109439</td>\n",
              "      <td>0.056820</td>\n",
              "      <td>0.059207</td>\n",
              "      <td>0.000000</td>\n",
              "      <td>0.116962</td>\n",
              "      <td>0.04545</td>\n",
              "      <td>0.000</td>\n",
              "    </tr>\n",
              "    <tr>\n",
              "      <th>Class2.2</th>\n",
              "      <td>0.616853</td>\n",
              "      <td>0.632599</td>\n",
              "      <td>0.177352</td>\n",
              "      <td>0.238564</td>\n",
              "      <td>0.000000</td>\n",
              "      <td>0.238159</td>\n",
              "      <td>0.456033</td>\n",
              "      <td>0.288344</td>\n",
              "      <td>0.955201</td>\n",
              "      <td>0.000000</td>\n",
              "      <td>...</td>\n",
              "      <td>0.772164</td>\n",
              "      <td>0.000000</td>\n",
              "      <td>0.467604</td>\n",
              "      <td>0.401957</td>\n",
              "      <td>0.397737</td>\n",
              "      <td>0.430414</td>\n",
              "      <td>0.098784</td>\n",
              "      <td>0.660414</td>\n",
              "      <td>0.86355</td>\n",
              "      <td>0.140</td>\n",
              "    </tr>\n",
              "  </tbody>\n",
              "</table>\n",
              "<p>5 rows × 61578 columns</p>\n",
              "</div>"
            ],
            "text/plain": [
              "             0         1         2         3         4         5      \\\n",
              "Class1.1  0.383147  0.327001  0.765717  0.693377  0.933839  0.738832   \n",
              "Class1.2  0.616853  0.663777  0.177352  0.238564  0.000000  0.238159   \n",
              "Class1.3  0.000000  0.009222  0.056931  0.068059  0.066161  0.023009   \n",
              "Class2.1  0.000000  0.031178  0.000000  0.000000  0.000000  0.000000   \n",
              "Class2.2  0.616853  0.632599  0.177352  0.238564  0.000000  0.238159   \n",
              "\n",
              "             6         7         8         9      ...     61568     61569  \\\n",
              "Class1.1  0.462492  0.687783  0.021834  0.269843  ...  0.020285  0.308029   \n",
              "Class1.2  0.456033  0.288344  0.976952  0.730157  ...  0.979715  0.691971   \n",
              "Class1.3  0.081475  0.023873  0.001214  0.000000  ...  0.000000  0.000000   \n",
              "Class2.1  0.000000  0.000000  0.021751  0.730157  ...  0.207551  0.691971   \n",
              "Class2.2  0.456033  0.288344  0.955201  0.000000  ...  0.772164  0.000000   \n",
              "\n",
              "             61570     61571     61572     61573     61574     61575    61576  \\\n",
              "Class1.1  0.410999  0.460239  0.545443  0.510379  0.901216  0.202841  0.09100   \n",
              "Class1.2  0.519560  0.511396  0.454557  0.489621  0.098784  0.777376  0.90900   \n",
              "Class1.3  0.069441  0.028365  0.000000  0.000000  0.000000  0.019783  0.00000   \n",
              "Class2.1  0.051956  0.109439  0.056820  0.059207  0.000000  0.116962  0.04545   \n",
              "Class2.2  0.467604  0.401957  0.397737  0.430414  0.098784  0.660414  0.86355   \n",
              "\n",
              "          61577  \n",
              "Class1.1  0.767  \n",
              "Class1.2  0.140  \n",
              "Class1.3  0.093  \n",
              "Class2.1  0.000  \n",
              "Class2.2  0.140  \n",
              "\n",
              "[5 rows x 61578 columns]"
            ]
          },
          "metadata": {
            "tags": []
          },
          "execution_count": 23
        }
      ]
    },
    {
      "metadata": {
        "id": "g2uf_gyA_3FP",
        "colab_type": "code",
        "colab": {}
      },
      "cell_type": "code",
      "source": [
        "y = c2.idxmax(axis=0)"
      ],
      "execution_count": 0,
      "outputs": []
    },
    {
      "metadata": {
        "id": "mIZVRLFx_3FU",
        "colab_type": "code",
        "colab": {}
      },
      "cell_type": "code",
      "source": [
        "y1 = np.asarray(y)"
      ],
      "execution_count": 0,
      "outputs": []
    },
    {
      "metadata": {
        "id": "LvMCbW-v_3FW",
        "colab_type": "code",
        "outputId": "2f71b85f-3172-4666-9325-0ad0a8f32f85",
        "colab": {
          "base_uri": "https://localhost:8080/",
          "height": 51
        }
      },
      "cell_type": "code",
      "source": [
        "y1"
      ],
      "execution_count": 26,
      "outputs": [
        {
          "output_type": "execute_result",
          "data": {
            "text/plain": [
              "array(['Class6.2', 'Class6.2', 'Class6.2', ..., 'Class6.1', 'Class1.2',\n",
              "       'Class1.1'], dtype=object)"
            ]
          },
          "metadata": {
            "tags": []
          },
          "execution_count": 26
        }
      ]
    },
    {
      "metadata": {
        "id": "lubtmw-0_3FZ",
        "colab_type": "code",
        "colab": {
          "base_uri": "https://localhost:8080/",
          "height": 51
        },
        "outputId": "8b3872da-d556-4778-9450-0cec83434aa7"
      },
      "cell_type": "code",
      "source": [
        "np.unique(y1)"
      ],
      "execution_count": 27,
      "outputs": [
        {
          "output_type": "execute_result",
          "data": {
            "text/plain": [
              "array(['Class1.1', 'Class1.2', 'Class1.3', 'Class6.1', 'Class6.2'],\n",
              "      dtype=object)"
            ]
          },
          "metadata": {
            "tags": []
          },
          "execution_count": 27
        }
      ]
    },
    {
      "metadata": {
        "id": "VwIyQAAU_3Fb",
        "colab_type": "code",
        "colab": {
          "base_uri": "https://localhost:8080/",
          "height": 163
        },
        "outputId": "d5b7fee7-1bee-4dc9-94cf-b98a31a5bcf6"
      },
      "cell_type": "code",
      "source": [
        "#freq_count(y1)"
      ],
      "execution_count": 12,
      "outputs": [
        {
          "output_type": "error",
          "ename": "NameError",
          "evalue": "ignored",
          "traceback": [
            "\u001b[0;31m---------------------------------------------------------------------------\u001b[0m",
            "\u001b[0;31mNameError\u001b[0m                                 Traceback (most recent call last)",
            "\u001b[0;32m<ipython-input-12-cb8623db60e2>\u001b[0m in \u001b[0;36m<module>\u001b[0;34m()\u001b[0m\n\u001b[0;32m----> 1\u001b[0;31m \u001b[0mfreq_count\u001b[0m\u001b[0;34m(\u001b[0m\u001b[0my1\u001b[0m\u001b[0;34m)\u001b[0m\u001b[0;34m\u001b[0m\u001b[0;34m\u001b[0m\u001b[0m\n\u001b[0m",
            "\u001b[0;31mNameError\u001b[0m: name 'freq_count' is not defined"
          ]
        }
      ]
    },
    {
      "metadata": {
        "id": "Q0_Kztlq_3Fe",
        "colab_type": "code",
        "colab": {
          "base_uri": "https://localhost:8080/",
          "height": 197
        },
        "outputId": "79e64cf8-1cfb-4783-ea9d-e0661f101bd6"
      },
      "cell_type": "code",
      "source": [
        "#d = dict([(i,0) for i in np.unique(y1)])\n",
        "#for number in y1:\n",
        "#    d[j]+=1"
      ],
      "execution_count": 16,
      "outputs": [
        {
          "output_type": "error",
          "ename": "NameError",
          "evalue": "ignored",
          "traceback": [
            "\u001b[0;31m---------------------------------------------------------------------------\u001b[0m",
            "\u001b[0;31mNameError\u001b[0m                                 Traceback (most recent call last)",
            "\u001b[0;32m<ipython-input-16-4512861b5c62>\u001b[0m in \u001b[0;36m<module>\u001b[0;34m()\u001b[0m\n\u001b[1;32m      1\u001b[0m \u001b[0md\u001b[0m \u001b[0;34m=\u001b[0m \u001b[0mdict\u001b[0m\u001b[0;34m(\u001b[0m\u001b[0;34m[\u001b[0m\u001b[0;34m(\u001b[0m\u001b[0mi\u001b[0m\u001b[0;34m,\u001b[0m\u001b[0;36m0\u001b[0m\u001b[0;34m)\u001b[0m \u001b[0;32mfor\u001b[0m \u001b[0mi\u001b[0m \u001b[0;32min\u001b[0m \u001b[0mnp\u001b[0m\u001b[0;34m.\u001b[0m\u001b[0munique\u001b[0m\u001b[0;34m(\u001b[0m\u001b[0my1\u001b[0m\u001b[0;34m)\u001b[0m\u001b[0;34m]\u001b[0m\u001b[0;34m)\u001b[0m\u001b[0;34m\u001b[0m\u001b[0;34m\u001b[0m\u001b[0m\n\u001b[1;32m      2\u001b[0m \u001b[0;32mfor\u001b[0m \u001b[0mnumber\u001b[0m \u001b[0;32min\u001b[0m \u001b[0my1\u001b[0m\u001b[0;34m:\u001b[0m\u001b[0;34m\u001b[0m\u001b[0;34m\u001b[0m\u001b[0m\n\u001b[0;32m----> 3\u001b[0;31m     \u001b[0md\u001b[0m\u001b[0;34m[\u001b[0m\u001b[0mi\u001b[0m\u001b[0;34m]\u001b[0m\u001b[0;34m+=\u001b[0m\u001b[0;36m1\u001b[0m\u001b[0;34m\u001b[0m\u001b[0;34m\u001b[0m\u001b[0m\n\u001b[0m",
            "\u001b[0;31mNameError\u001b[0m: name 'i' is not defined"
          ]
        }
      ]
    },
    {
      "metadata": {
        "id": "v4Gad9IDTxQV",
        "colab_type": "code",
        "colab": {}
      },
      "cell_type": "code",
      "source": [
        "!unzip file_location"
      ],
      "execution_count": 0,
      "outputs": []
    },
    {
      "metadata": {
        "id": "Vd7rlg13Txev",
        "colab_type": "code",
        "colab": {}
      },
      "cell_type": "code",
      "source": [
        ""
      ],
      "execution_count": 0,
      "outputs": []
    },
    {
      "metadata": {
        "id": "6CbrB0fIVygm",
        "colab_type": "code",
        "colab": {}
      },
      "cell_type": "code",
      "source": [
        ""
      ],
      "execution_count": 0,
      "outputs": []
    },
    {
      "metadata": {
        "id": "PcxUU6JIVytk",
        "colab_type": "code",
        "colab": {}
      },
      "cell_type": "code",
      "source": [
        ""
      ],
      "execution_count": 0,
      "outputs": []
    },
    {
      "metadata": {
        "id": "nXoPRdV9Vy4p",
        "colab_type": "code",
        "colab": {}
      },
      "cell_type": "code",
      "source": [
        ""
      ],
      "execution_count": 0,
      "outputs": []
    },
    {
      "metadata": {
        "id": "_az3VuzKVy9k",
        "colab_type": "code",
        "colab": {}
      },
      "cell_type": "code",
      "source": [
        ""
      ],
      "execution_count": 0,
      "outputs": []
    },
    {
      "metadata": {
        "id": "dxtLH-lzVy8V",
        "colab_type": "code",
        "colab": {}
      },
      "cell_type": "code",
      "source": [
        ""
      ],
      "execution_count": 0,
      "outputs": []
    },
    {
      "metadata": {
        "id": "vlWZS3P_Vy28",
        "colab_type": "code",
        "colab": {}
      },
      "cell_type": "code",
      "source": [
        ""
      ],
      "execution_count": 0,
      "outputs": []
    },
    {
      "metadata": {
        "id": "_1xkN0hyVyzX",
        "colab_type": "code",
        "colab": {}
      },
      "cell_type": "code",
      "source": [
        ""
      ],
      "execution_count": 0,
      "outputs": []
    },
    {
      "metadata": {
        "id": "fi0OSdnCVyxz",
        "colab_type": "code",
        "colab": {}
      },
      "cell_type": "code",
      "source": [
        ""
      ],
      "execution_count": 0,
      "outputs": []
    },
    {
      "metadata": {
        "id": "Jrl2JYlQVysa",
        "colab_type": "code",
        "colab": {}
      },
      "cell_type": "code",
      "source": [
        ""
      ],
      "execution_count": 0,
      "outputs": []
    },
    {
      "metadata": {
        "id": "dslgt146_3Fg",
        "colab_type": "code",
        "colab": {}
      },
      "cell_type": "code",
      "source": [
        "#This is the best model we found. For additional models, check out I_notebook.ipynb\n",
        "start = datetime.datetime.now()\n",
        "model = Sequential() \n",
        "model.add(Flatten(input_shape=train_data.shape[1:])) \n",
        "model.add(Dense(100, activation=keras.layers.LeakyReLU(alpha=0.3))) \n",
        "model.add(Dropout(0.5)) \n",
        "model.add(Dense(50, activation=keras.layers.LeakyReLU(alpha=0.3))) \n",
        "model.add(Dropout(0.3)) \n",
        "model.add(Dense(num_classes, activation=’softmax’))\n",
        "model.compile(loss=’categorical_crossentropy’,\n",
        "   optimizer=optimizers.RMSprop(lr=1e-4),\n",
        "   metrics=[‘acc’])\n",
        "history = model.fit(train_data, train_labels, \n",
        "   epochs=7,\n",
        "   batch_size=batch_size, \n",
        "   validation_data=(validation_data, validation_labels))\n",
        "model.save_weights(top_model_weights_path)\n",
        "(eval_loss, eval_accuracy) = model.evaluate( \n",
        "    validation_data, validation_labels, batch_size=batch_size,     verbose=1)\n",
        "print(“[INFO] accuracy: {:.2f}%”.format(eval_accuracy * 100)) \n",
        "print(“[INFO] Loss: {}”.format(eval_loss)) \n",
        "end= datetime.datetime.now()\n",
        "elapsed= end-start\n",
        "print (‘Time: ‘, elapsed)"
      ],
      "execution_count": 0,
      "outputs": []
    }
  ]
}